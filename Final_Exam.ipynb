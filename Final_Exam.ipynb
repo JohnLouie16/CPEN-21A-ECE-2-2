{
  "nbformat": 4,
  "nbformat_minor": 0,
  "metadata": {
    "colab": {
      "name": "Final Exam.ipynb",
      "provenance": [],
      "collapsed_sections": [],
      "authorship_tag": "ABX9TyO8ndTdzq5QexAMP3JWFxu6",
      "include_colab_link": true
    },
    "kernelspec": {
      "name": "python3",
      "display_name": "Python 3"
    },
    "language_info": {
      "name": "python"
    }
  },
  "cells": [
    {
      "cell_type": "markdown",
      "metadata": {
        "id": "view-in-github",
        "colab_type": "text"
      },
      "source": [
        "<a href=\"https://colab.research.google.com/github/JohnLouie16/CPEN-21A-ECE-2-2/blob/main/Final_Exam.ipynb\" target=\"_parent\"><img src=\"https://colab.research.google.com/assets/colab-badge.svg\" alt=\"Open In Colab\"/></a>"
      ]
    },
    {
      "cell_type": "markdown",
      "source": [
        "#Final Exam"
      ],
      "metadata": {
        "id": "qhqToraDTwM0"
      }
    },
    {
      "cell_type": "markdown",
      "source": [
        "####Problem Statement 1"
      ],
      "metadata": {
        "id": "dGSXKOKLT7dV"
      }
    },
    {
      "cell_type": "code",
      "source": [
        "n=0\n",
        "for i in range(0,10):\n",
        "  a=int(input(\"Enter a number: \"))\n",
        "  while a>5:\n",
        "    print(\"The number you entered is greater than 5, please enter another number\")\n",
        "    a=int(input(\"Enter a number: \"))\n",
        "  n+=a\n",
        "\n",
        "print(n)"
      ],
      "metadata": {
        "colab": {
          "base_uri": "https://localhost:8080/"
        },
        "id": "2UdtUt09UOoJ",
        "outputId": "db118592-b0ab-4ba1-fa55-08823f802a39"
      },
      "execution_count": 15,
      "outputs": [
        {
          "output_type": "stream",
          "name": "stdout",
          "text": [
            "Enter a number: 8\n",
            "The number you entered is greater than 5, please enter another number\n",
            "Enter a number: 1\n",
            "Enter a number: 2\n",
            "Enter a number: 3\n",
            "Enter a number: 4\n",
            "Enter a number: 5\n",
            "Enter a number: 0\n",
            "Enter a number: -1\n",
            "Enter a number: -6\n",
            "Enter a number: -2\n",
            "Enter a number: -1\n",
            "5\n"
          ]
        }
      ]
    },
    {
      "cell_type": "markdown",
      "source": [
        "####Problem Statement 2"
      ],
      "metadata": {
        "id": "EVYjA25Kb8cI"
      }
    },
    {
      "cell_type": "code",
      "source": [
        "n=1\n",
        "sum=0\n",
        "print(\"Enter 5 numbers: \")\n",
        "\n",
        "while n<=5:\n",
        "  number=int(input(\"\"))\n",
        "  if n==1 or n==5:\n",
        "    sum=sum+number\n",
        "  n=n+1\n",
        "print(\"The sum of first and last number entered is\", sum)"
      ],
      "metadata": {
        "colab": {
          "base_uri": "https://localhost:8080/"
        },
        "id": "zgHhfnWKb_Th",
        "outputId": "a21273b0-76f1-4083-c88e-50a0c8051286"
      },
      "execution_count": 23,
      "outputs": [
        {
          "output_type": "stream",
          "name": "stdout",
          "text": [
            "Enter 5 numbers: \n",
            "5\n",
            "6\n",
            "7\n",
            "8\n",
            "9\n",
            "The sum of first and last number entered is 14\n"
          ]
        }
      ]
    },
    {
      "cell_type": "markdown",
      "source": [
        "####Problem Statement 3"
      ],
      "metadata": {
        "id": "ePi46y-HdbsS"
      }
    },
    {
      "cell_type": "code",
      "source": [
        "x = int(input(\"Enter Grade: \"))\n",
        "\n",
        "if x>=90:\n",
        "  print(\"Grade = A\")\n",
        "elif x>=80 and x<90:\n",
        "  print(\"Grade = B\")\n",
        "elif x>=70 and x<80:\n",
        "  print(\"Grade = C\")\n",
        "elif x>=60 and x<70:\n",
        "  print(\"Grade = D\")\n",
        "else:\n",
        "  print(\"Grade = F\")"
      ],
      "metadata": {
        "colab": {
          "base_uri": "https://localhost:8080/"
        },
        "id": "nUHblqeideei",
        "outputId": "72a9660e-a8e4-4b93-8ae7-ce06b8132c1e"
      },
      "execution_count": null,
      "outputs": [
        {
          "output_type": "stream",
          "name": "stdout",
          "text": [
            "Enter Grade: 68\n",
            "Grade = D\n"
          ]
        }
      ]
    }
  ]
}