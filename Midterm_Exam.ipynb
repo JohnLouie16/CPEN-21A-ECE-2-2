{
  "nbformat": 4,
  "nbformat_minor": 0,
  "metadata": {
    "colab": {
      "name": "Midterm Exam.ipynb",
      "provenance": [],
      "collapsed_sections": [],
      "authorship_tag": "ABX9TyN0s6ZQjQJS/loy5emBjhbL",
      "include_colab_link": true
    },
    "kernelspec": {
      "name": "python3",
      "display_name": "Python 3"
    },
    "language_info": {
      "name": "python"
    }
  },
  "cells": [
    {
      "cell_type": "markdown",
      "metadata": {
        "id": "view-in-github",
        "colab_type": "text"
      },
      "source": [
        "<a href=\"https://colab.research.google.com/github/JohnLouie16/CPEN-21A-ECE-2-2/blob/main/Midterm_Exam.ipynb\" target=\"_parent\"><img src=\"https://colab.research.google.com/assets/colab-badge.svg\" alt=\"Open In Colab\"/></a>"
      ]
    },
    {
      "cell_type": "markdown",
      "metadata": {
        "id": "8h6LIbwts5BZ"
      },
      "source": [
        "#Midterm Exam"
      ]
    },
    {
      "cell_type": "markdown",
      "metadata": {
        "id": "hb7_TaaetwaY"
      },
      "source": [
        "####Problem Statement 1"
      ]
    },
    {
      "cell_type": "code",
      "metadata": {
        "colab": {
          "base_uri": "https://localhost:8080/"
        },
        "id": "VynAxqlbs62A",
        "outputId": "46470a57-9801-4dbb-c398-0237b20e07de"
      },
      "source": [
        "a = \"John Louie R. Calderon\"\n",
        "b = \"202013549\"\n",
        "c = \"19 years old\"\n",
        "d = \"June 16, 2002\"\n",
        "e = \"9105 Sitio Banaba Brgy. Inchican Silang, Cavite\"\n",
        "f = \"Bachelor of Science in Electronics and Communications Engineering\"\n",
        "g = \"1.94\"\n",
        "\n",
        "print(\"Full Name: \" + a)\n",
        "print(\"Student Number: \" + b)\n",
        "print(\"Age: \" + c)\n",
        "print(\"Birthday: \"+ d)\n",
        "print(\"Address: \" + e)\n",
        "print(\"Course: \" + f)\n",
        "print(\"Last Sem GWA: \" + g)"
      ],
      "execution_count": 6,
      "outputs": [
        {
          "output_type": "stream",
          "name": "stdout",
          "text": [
            "Full Name: John Louie R. Calderon\n",
            "Student Number: 202013549\n",
            "Age: 19 years old\n",
            "Birthday: June 16, 2002\n",
            "Address: 9105 Sitio Banaba Brgy. Inchican Silang, Cavite\n",
            "Course: Bachelor of Science in Electronics and Communications Engineering\n",
            "Last Sem GWA: 1.94\n"
          ]
        }
      ]
    },
    {
      "cell_type": "markdown",
      "metadata": {
        "id": "pkmyUUoiwTk4"
      },
      "source": [
        "####Problem Statement 2"
      ]
    },
    {
      "cell_type": "code",
      "metadata": {
        "colab": {
          "base_uri": "https://localhost:8080/"
        },
        "id": "-wnP6W3Lz7c3",
        "outputId": "23929f35-d41c-42c7-b766-95f04b3e42d4"
      },
      "source": [
        "n=4\n",
        "answ=\"Y\"\n",
        "\n",
        "print((2<n) and (n<6))\n",
        "print((2<n) or (n==6))\n",
        "print(not((2<n) or (n==6)))\n",
        "print(not(n<6))\n",
        "print((answ==\"Y\") or (answ==\"y\"))\n",
        "print((answ==\"Y\") and (answ==\"y\"))\n",
        "print(not(answ==\"y\"))\n",
        "print(((2<n) and (n==5+1)) or answ==\"No\")\n",
        "print(((n==2) and (n==7)) or answ==\"Y\")\n",
        "print((n==2) and ((n==7) or (answ==\"Y\")))"
      ],
      "execution_count": 54,
      "outputs": [
        {
          "output_type": "stream",
          "name": "stdout",
          "text": [
            "True\n",
            "True\n",
            "False\n",
            "False\n",
            "True\n",
            "False\n",
            "True\n",
            "False\n",
            "True\n",
            "False\n"
          ]
        }
      ]
    },
    {
      "cell_type": "markdown",
      "metadata": {
        "id": "mnjp3unw4YdX"
      },
      "source": [
        "####Problem Statement 3"
      ]
    },
    {
      "cell_type": "code",
      "metadata": {
        "colab": {
          "base_uri": "https://localhost:8080/"
        },
        "id": "T4RM18IT4b7s",
        "outputId": "0e51d990-569a-4c5f-bbd3-b8684cc4204e"
      },
      "source": [
        "x=2\n",
        "y=-3\n",
        "w=7\n",
        "z=-10\n",
        "\n",
        "print(x/y)\n",
        "print(w/y/x)\n",
        "print(z/y%x)\n",
        "print(x%-y*w)\n",
        "print(x%y)\n",
        "print(z%w-y/x*5+5)\n",
        "print(9-x%(2+y))\n",
        "print(z//w)\n",
        "print((2+y)**2)\n",
        "print(w/x*2)"
      ],
      "execution_count": 65,
      "outputs": [
        {
          "output_type": "stream",
          "name": "stdout",
          "text": [
            "-0.6666666666666666\n",
            "-1.1666666666666667\n",
            "1.3333333333333335\n",
            "14\n",
            "-1\n",
            "16.5\n",
            "9\n",
            "-2\n",
            "1\n",
            "7.0\n"
          ]
        }
      ]
    }
  ]
}