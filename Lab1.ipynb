{
  "nbformat": 4,
  "nbformat_minor": 0,
  "metadata": {
    "colab": {
      "name": "Lab1.ipynb",
      "provenance": [],
      "collapsed_sections": [],
      "authorship_tag": "ABX9TyPBYNa0xvsAplxwfPRFQV7t",
      "include_colab_link": true
    },
    "kernelspec": {
      "name": "python3",
      "display_name": "Python 3"
    },
    "language_info": {
      "name": "python"
    }
  },
  "cells": [
    {
      "cell_type": "markdown",
      "metadata": {
        "id": "view-in-github",
        "colab_type": "text"
      },
      "source": [
        "<a href=\"https://colab.research.google.com/github/JohnLouie16/CPEN-21A-ECE-2-2/blob/main/Lab1.ipynb\" target=\"_parent\"><img src=\"https://colab.research.google.com/assets/colab-badge.svg\" alt=\"Open In Colab\"/></a>"
      ]
    },
    {
      "cell_type": "markdown",
      "metadata": {
        "id": "vdOO1BGLeRrQ"
      },
      "source": [
        "#Laboratory 1"
      ]
    },
    {
      "cell_type": "code",
      "metadata": {
        "colab": {
          "base_uri": "https://localhost:8080/"
        },
        "id": "wGkPUQZEei4-",
        "outputId": "b9e4327e-94b4-4dd1-816c-2127a1213ec1"
      },
      "source": [
        "print(\"Welcome to Python Programming\")"
      ],
      "execution_count": 1,
      "outputs": [
        {
          "output_type": "stream",
          "name": "stdout",
          "text": [
            "Welcome to Python Programming\n"
          ]
        }
      ]
    },
    {
      "cell_type": "code",
      "metadata": {
        "colab": {
          "base_uri": "https://localhost:8080/"
        },
        "id": "HIsL2FM9gVum",
        "outputId": "95321a90-6cbd-4320-b1c8-b3f98c750688"
      },
      "source": [
        "x,y,z = \"John Louie R. Calderon\",\"19 years old\",\"Sitio Banaba, Brgy. Inchican SIlang, Cavite\"\n",
        "print(\"Name: \"+x)\n",
        "print(\"Age: \"+y)\n",
        "print(\"Address: \"+z)"
      ],
      "execution_count": 29,
      "outputs": [
        {
          "output_type": "stream",
          "name": "stdout",
          "text": [
            "Name: John Louie R. Calderon\n",
            "Age: 19 years old\n",
            "Address: Sitio Banaba, Brgy. Inchican SIlang, Cavite\n"
          ]
        }
      ]
    }
  ]
}